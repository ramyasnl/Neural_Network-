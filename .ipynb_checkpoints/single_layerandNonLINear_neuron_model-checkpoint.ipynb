{
 "cells": [
  {
   "cell_type": "markdown",
   "id": "f9290951",
   "metadata": {},
   "source": [
    "# Basic Neuron Model"
   ]
  },
  {
   "cell_type": "code",
   "execution_count": 35,
   "id": "a6634f91",
   "metadata": {},
   "outputs": [],
   "source": [
    "# Import our dependencies\n",
    "import pandas as pd\n",
    "import matplotlib as plt\n",
    "from sklearn.datasets import make_blobs\n",
    "import sklearn as skl\n",
    "import tensorflow as tf"
   ]
  },
  {
   "cell_type": "markdown",
   "id": "db56cef0",
   "metadata": {},
   "source": [
    "Dummy data that can be use to train and test.\n",
    "The make_blobs is used to create sample values and contains many parameters that change the shape and values of the sample dataset.\n",
    "For our purposes, we'll use the make_blobs method to create 1,000 samples with two features (also known as our x- and y-axis values) that are linearly separable into two groups. \n",
    "In our notebook, we can generate and visualize our dummy data using the following code:"
   ]
  },
  {
   "cell_type": "code",
   "execution_count": 36,
   "id": "2869fc18",
   "metadata": {},
   "outputs": [
    {
     "data": {
      "text/plain": [
       "<AxesSubplot:xlabel='Feature 1', ylabel='Feature 2'>"
      ]
     },
     "execution_count": 36,
     "metadata": {},
     "output_type": "execute_result"
    },
    {
     "data": {
      "image/png": "[encoded data removed]",
      "text/plain": [
       "<Figure size 432x288 with 2 Axes>"
      ]
     },
     "metadata": {
      "needs_background": "light"
     },
     "output_type": "display_data"
    }
   ],
   "source": [
    "# Generate dummy dataset\n",
    "X, y = make_blobs(n_samples=1000, centers=2, n_features=2, random_state=78)\n",
    "\n",
    "# Creating a DataFrame with the dummy data\n",
    "df = pd.DataFrame(X, columns=[\"Feature 1\", \"Feature 2\"])\n",
    "df[\"Target\"] = y\n",
    "\n",
    "# Plotting the dummy data\n",
    "df.plot.scatter(x=\"Feature 1\", y=\"Feature 2\", c=\"Target\", colormap=\"winter\")"
   ]
  },
  {
   "cell_type": "markdown",
   "id": "a4394899",
   "metadata": {},
   "source": [
    "we have our dummy data generated, we'll split our data into training and test datasets using Scikit-learn's train_test_split method. \n",
    "In our notebook, enter the following code to generate the training and test datasets:"
   ]
  },
  {
   "cell_type": "code",
   "execution_count": 37,
   "id": "4bcd3b61",
   "metadata": {},
   "outputs": [],
   "source": [
    "# Use sklearn to split dataset\n",
    "from sklearn.model_selection import train_test_split\n",
    "X_train, X_test, y_train, y_test = train_test_split(X, y, random_state=78)"
   ]
  },
  {
   "cell_type": "markdown",
   "id": "a8f69ea1",
   "metadata": {},
   "source": [
    "Now that we have our training data, we need to prepare the dataset for our neural network model. \n",
    "As with any machine learning algorithm, it is crucial to normalize or standardize our numerical variables to ensure that our neural network does not focus on outliers and can apply proper weights to each input. In most cases, \n",
    "the more that input variables are normalized to the same scale, the more stable the neural network model is, and the better the neural network model will generalize. \n",
    "To normalize our dummy data, we'll add and run the following code to the notebook:"
   ]
  },
  {
   "cell_type": "code",
   "execution_count": 38,
   "id": "c579939b",
   "metadata": {},
   "outputs": [],
   "source": [
    "# Create scaler instance\n",
    "X_scaler = skl.preprocessing.StandardScaler()\n",
    "\n",
    "# Fit the scaler\n",
    "X_scaler.fit(X_train)\n",
    "\n",
    "# Scale the data\n",
    "X_train_scaled = X_scaler.transform(X_train)\n",
    "X_test_scaled = X_scaler.transform(X_test)"
   ]
  },
  {
   "cell_type": "markdown",
   "id": "b726e604",
   "metadata": {},
   "source": [
    "Finally, we have our data ready for our first neural network model! \n",
    "To create the neural network in our notebook, first we must create our Sequential model. \n",
    "To do this, we must add the following code to the notebook:"
   ]
  },
  {
   "cell_type": "code",
   "execution_count": 39,
   "id": "2a1eca1f",
   "metadata": {},
   "outputs": [],
   "source": [
    "# Create the Keras Sequential model\n",
    "# A Sequential model is appropriate for a plain stack of layers where each layer has exactly one input tensor and one output tensor.\n",
    "nn_model = tf.keras.models.Sequential()\n"
   ]
  },
  {
   "cell_type": "markdown",
   "id": "b0617663",
   "metadata": {},
   "source": [
    "The Keras module does not have specific classes for input, hidden, and output layers. \n",
    "All layers are built using the Dense class, and the input and first hidden layer are always built in the same instance.\n",
    "The neural network architecture shows the data flow through the input\n",
    "and hidden layer to the output\n",
    "layer.\n",
    "\n",
    "As we learned earlier, we can add layers to our Sequential model using Keras' Dense class. \n",
    "For our first layer, we need to define a few parameters:\n",
    "\n",
    "The<b> input_dim</b> parameter indicates how many inputs will be in the model (in this case two).\n",
    "The <b>units</b> parameter indicates how many neurons we want in the hidden layer (in this case one).\n",
    "The <b>activation</b> parameter indicates which activation function to use.\n",
    "We'll use the ReLU activation function to allow our hidden layer to identify and train on nonlinear relationships in the dataset.\n",
    "Putting it all together, our first Dense layer should have the following Python code:"
   ]
  },
  {
   "cell_type": "code",
   "execution_count": 45,
   "id": "b022fe33",
   "metadata": {},
   "outputs": [],
   "source": [
    "# Add our first Dense layer, including the input layer\n",
    "nn_model.add(tf.keras.layers.Dense(units=1, activation=\"relu\", input_dim=2))\n",
    "# The rectified linear activation function or ReLU for short is a piecewise linear function that will output the input directly if it is positive, otherwise, it will output zero. ...\n",
    "# The rectified linear activation function overcomes the vanishing gradient problem, allowing models to learn faster and perform better"
   ]
  },
  {
   "cell_type": "markdown",
   "id": "40e12381",
   "metadata": {},
   "source": [
    "Once again, we'll use the Dense class to tell our Sequential model what to do with the data.\n",
    "This time, we only need to supply the number of output neurons. For a classification model,\n",
    "we only want a yes or no binary decision; therefore, we only need one output neuron. \n",
    "In our previous layer, we used a ReLU activation function to enable nonlinear relationships; however, \n",
    "for our classification output,\n",
    "we want to use a sigmoid activation function to produce a probability output.\n",
    "Let's add the following code to our notebooks:"
   ]
  },
  {
   "cell_type": "markdown",
   "id": "35270765",
   "metadata": {},
   "source": [
    "# The sigmoid activation function\n",
    " The sigmoid activation function, also called the logistic function, is traditionally a very popular activation function .\n",
    " The input to the function is transformed into a value between 0.0 and 1.0\n",
    " sigmoid(z) will yield a value (a probability) between 0 and 1. Source yes 2 - The \"output\" must come from a function that\n",
    " satisfies the properties of a distribution function in order for us to interpret it as probabilities. ... sigmoid(logits) gives you the probabilities"
   ]
  },
  {
   "cell_type": "code",
   "execution_count": 41,
   "id": "53c8ffb0",
   "metadata": {},
   "outputs": [],
   "source": [
    "# Add the output layer that uses a probability activation function\n",
    " \n",
    "nn_model.add(tf.keras.layers.Dense(units=1, activation=\"sigmoid\"))"
   ]
  },
  {
   "cell_type": "markdown",
   "id": "4b4275ef",
   "metadata": {},
   "source": [
    "Now that we have added our layers to the Sequential model, we can double-check our model structure using the summary method. \n",
    "Try running the following code in your notebook:"
   ]
  },
  {
   "cell_type": "code",
   "execution_count": 42,
   "id": "ffa65c5c",
   "metadata": {},
   "outputs": [
    {
     "name": "stdout",
     "output_type": "stream",
     "text": [
      "Model: \"sequential_3\"\n",
      "_________________________________________________________________\n",
      "Layer (type)                 Output Shape              Param #   \n",
      "=================================================================\n",
      "dense_6 (Dense)              (None, 1)                 3         \n",
      "_________________________________________________________________\n",
      "dense_7 (Dense)              (None, 1)                 2         \n",
      "=================================================================\n",
      "Total params: 5\n",
      "Trainable params: 5\n",
      "Non-trainable params: 0\n",
      "_________________________________________________________________\n"
     ]
    }
   ],
   "source": [
    "# Check the structure of the Sequential model\n",
    "nn_model.summary()"
   ]
  },
  {
   "cell_type": "code",
   "execution_count": 43,
   "id": "f3050e86",
   "metadata": {},
   "outputs": [],
   "source": [
    "# Compile the Sequential model together and customize metrics\n",
    "nn_model.compile(loss=\"binary_crossentropy\", optimizer=\"adam\", metrics=[\"accuracy\"])"
   ]
  },
  {
   "cell_type": "markdown",
   "id": "22e1e771",
   "metadata": {},
   "source": [
    "At last, our Sequential neural network is modeled and compiled, so now we can move onto training/fitting our model to the dummy \n",
    "data. To train/fit our Keras model, we'll use the fit method and provide the x training values and y training values, as well as the number of epochs. Each epoch is a complete pass through the training data. As we tested earlier in the TensorFlow Playground, the neural network binary classification model reached optimal performance at around 100 epochs.\n",
    "Since we designed our Sequential model to match the TensorFlow Playground simulation, we should expect similar performance. \n",
    "To our notebooks, we'll add and run the following code:"
   ]
  },
  {
   "cell_type": "markdown",
   "id": "1ca728af",
   "metadata": {},
   "source": [
    "* The loss metric is used by machine learning algorithms to score the performance of the model through each iteration and epoch by evaluating the inaccuracy of a single input.\n",
    "* We’ll use binary_crossentropy, which is specifically designed to evaluate a binary classification model.\n",
    "* The optimization function shapes and molds a neural network model while it is being trained to ensure that it performs to the best of its ability.\n",
    "* To enhance the performance of our classification neural network, we’ll use the adam optimizer, which uses a gradient descent approach to ensure that the algorithm will not get stuck on weaker classifying variables and features.\n",
    "* In addition to the optimization function and loss metric, we’ll also add a more reader-friendly evaluation metric, which measures the quality of the machine learning model.\n",
    "* There are two main types of evaluation metrics:\n",
    "* The model predictive accuracy\n",
    "* The model mean squared error (MSE)\n",
    "* We use accuracy for classification models and mse for regression models. For model predictive accuracy, the higher the number the better, whereas for regression models, MSE should reduce to zero.\n",
    "* At last, our<b> Sequential neural network </b>is modeled and compiled, so now we can move onto training/fitting our model to the dummy data."
   ]
  },
  {
   "cell_type": "markdown",
   "id": "9cf152ad",
   "metadata": {},
   "source": [
    "Looking at the model training output, we know that the loss metric was 0.07 and the predictive accuracy is 1.0. \n",
    "This means that although our model performance had more loss than the simulation data, the model correctly classifies all of\n",
    "our training data, which is sufficient for our needs. Note that the model isn't seeded, meaning that the results in your \n",
    "notebook will likely not be identical to one in this example. However, you should observe similar general trends.\n",
    "\n",
    "Under the hood, the neural network will select random weights to start training the model,\n",
    "so that each and every time we create a neural network, the model will be different. However, due to the adam optimizer, \n",
    "our model's end performance should be very similar, regardless of the loss function.\n",
    "\n",
    "When training completes, the model object stores the loss and accuracy metrics across all epochs,\n",
    "which we can use to visualize the training progress. For example, if we wanted to visualize our model's loss full 100 epochs, we can run the following code in our notebooks:"
   ]
  },
  {
   "cell_type": "code",
   "execution_count": 44,
   "id": "3f493b6f",
   "metadata": {},
   "outputs": [
    {
     "data": {
      "text/plain": [
       "<AxesSubplot:>"
      ]
     },
     "execution_count": 44,
     "metadata": {},
     "output_type": "execute_result"
    },
    {
     "data": {
      "image/png": "[encoded data removed]",
      "text/plain": [
       "<Figure size 432x288 with 1 Axes>"
      ]
     },
     "metadata": {
      "needs_background": "light"
     },
     "output_type": "display_data"
    }
   ],
   "source": [
    "# Create a DataFrame containing training history\n",
    "history_df = pd.DataFrame(fit_model.history, index=range(1,len(fit_model.history[\"loss\"])+1))\n",
    "\n",
    "# Plot the loss\n",
    "history_df.plot(y=\"loss\")"
   ]
  },
  {
   "cell_type": "code",
   "execution_count": 21,
   "id": "b987d834",
   "metadata": {},
   "outputs": [
    {
     "data": {
      "text/plain": [
       "<AxesSubplot:>"
      ]
     },
     "execution_count": 21,
     "metadata": {},
     "output_type": "execute_result"
    },
    {
     "data": {
      "image/png": "[encoded data removed]",
      "text/plain": [
       "<Figure size 432x288 with 1 Axes>"
      ]
     },
     "metadata": {
      "needs_background": "light"
     },
     "output_type": "display_data"
    }
   ],
   "source": [
    "# Plot the accuracy\n",
    "history_df.plot(y=\"accuracy\")"
   ]
  },
  {
   "cell_type": "markdown",
   "id": "3fce1c15",
   "metadata": {},
   "source": [
    "Now that our model has been properly trained, we must evaluate model performance using the test data. \n",
    "Testing a neural network model in TensorFlow is very similar to testing a machine learning model in Scikit-learn. \n",
    "For our purposes, we'll use the evaluate method and print the testing loss and accuracy values. In our notebooks,\n",
    "we'll add and run the following code:"
   ]
  },
  {
   "cell_type": "code",
   "execution_count": 22,
   "id": "43bb8417",
   "metadata": {},
   "outputs": [
    {
     "name": "stdout",
     "output_type": "stream",
     "text": [
      "8/8 - 0s - loss: 0.0738 - accuracy: 1.0000\n",
      "Loss: 0.07382317632436752, Accuracy: 1.0\n"
     ]
    }
   ],
   "source": [
    "# Evaluate the model using the test data\n",
    "model_loss, model_accuracy = nn_model.evaluate(X_test_scaled,y_test,verbose=2)\n",
    "print(f\"Loss: {model_loss}, Accuracy: {model_accuracy}\")"
   ]
  },
  {
   "cell_type": "markdown",
   "id": "8b1f5f3f",
   "metadata": {},
   "source": [
    "Looking at the performance metrics from the model,\n",
    "the neural network was able to correctly classify each of the points in the test data. In other words, \n",
    "the model was able to correctly classify data it was not trained on 100% of the time. \n",
    "Although perfect model performance is ideal, more complex datasets and models may not be able to achieve 100% accuracy.\n",
    "Therefore, it is important to establish model performance thresholds before designing any machine learning model. \n",
    "Depending on the type of data and the use case, we may have to recreate and retrain a model using different parameters,\n",
    "different training/test data, or even look to use a different model entirely.- From the Module\n",
    "\n"
   ]
  },
  {
   "cell_type": "code",
   "execution_count": 27,
   "id": "e14dcb36",
   "metadata": {},
   "outputs": [
    {
     "name": "stderr",
     "output_type": "stream",
     "text": [
      "C:\\Users\\14694\\anaconda3\\envs\\mlenv\\lib\\site-packages\\tensorflow\\python\\keras\\engine\\sequential.py:455: UserWarning: `model.predict_classes()` is deprecated and will be removed after 2021-01-01. Please use instead:* `np.argmax(model.predict(x), axis=-1)`,   if your model does multi-class classification   (e.g. if it uses a `softmax` last-layer activation).* `(model.predict(x) > 0.5).astype(\"int32\")`,   if your model does binary classification   (e.g. if it uses a `sigmoid` last-layer activation).\n",
      "  warnings.warn('`model.predict_classes()` is deprecated and '\n"
     ]
    },
    {
     "data": {
      "text/plain": [
       "array([[0],\n",
       "       [1],\n",
       "       [0],\n",
       "       [1],\n",
       "       [0],\n",
       "       [0],\n",
       "       [1],\n",
       "       [1],\n",
       "       [1],\n",
       "       [0]])"
      ]
     },
     "execution_count": 27,
     "metadata": {},
     "output_type": "execute_result"
    }
   ],
   "source": [
    "# Predict the classification of a new set of blob data\n",
    "new_X, new_Y = make_blobs(n_samples = 10, \n",
    "                          centers = 2, \n",
    "                          n_features = 2, \n",
    "                          random_state = 78)\n",
    "\n",
    "new_X_scaled = X_scaler.transform(new_X)\n",
    "\n",
    "nn_model.predict_classes(new_X_scaled)"
   ]
  },
  {
   "cell_type": "markdown",
   "id": "a753d86c",
   "metadata": {},
   "source": [
    "Now that we have a trained neural network model and we have verified its performance using a test dataset,\n",
    "we can apply this model to novel datasets and predict the classification of a data point. \n",
    "In our Sequential model, \n",
    "we can use the appropriately named predict_classes method to generate predictions on new data."
   ]
  },
  {
   "cell_type": "markdown",
   "id": "f73561a4",
   "metadata": {},
   "source": [
    "Now that we have designed a basic single-neuron, single-layer model, trained the model, and evaluated its performance using a test dataset, we are ready to start testing the limits of the basic neural network. As previously mentioned, simple linear regression and singular perceptron models work really well as a binary classifier when the data is linearly separable. But what about nonlinear data? How does our basic neural network model behave when data becomes more complicated? To test this behavior, let's generate some new dummy data. This time we'll generate some nonlinear moon-shaped data using Scikit-learn's make_moons method and visualize it using Pandas and Matplotlib. Using the same notebook, we'll add and run the following code:\n",
    "\n",
    "from sklearn.datasets import make_moons"
   ]
  },
  {
   "cell_type": "code",
   "execution_count": 26,
   "id": "e2b7a45e",
   "metadata": {},
   "outputs": [
    {
     "data": {
      "text/plain": [
       "<AxesSubplot:xlabel='Feature 1', ylabel='Feature 2'>"
      ]
     },
     "execution_count": 26,
     "metadata": {},
     "output_type": "execute_result"
    },
    {
     "data": {
      "image/png": "[encoded data removed]",
      "text/plain": [
       "<Figure size 432x288 with 2 Axes>"
      ]
     },
     "metadata": {
      "needs_background": "light"
     },
     "output_type": "display_data"
    }
   ],
   "source": [
    "from sklearn.datasets import make_moons\n",
    "\n",
    "# Creating dummy nonlinear data\n",
    "X_moons, y_moons = make_moons(n_samples=1000, noise=0.08, random_state=78)\n",
    "\n",
    "# Transforming y_moons to a vertical vector\n",
    "y_moons = y_moons.reshape(-1, 1)\n",
    "\n",
    "# Creating a DataFrame to plot the nonlinear dummy data\n",
    "df_moons = pd.DataFrame(X_moons, columns=[\"Feature 1\", \"Feature 2\"])\n",
    "df_moons[\"Target\"] = y_moons\n",
    "\n",
    "# Plot the nonlinear dummy data\n",
    "df_moons.plot.scatter(x=\"Feature 1\",y=\"Feature 2\", c=\"Target\",colormap=\"winter\")"
   ]
  },
  {
   "cell_type": "markdown",
   "id": "f66ed85b",
   "metadata": {},
   "source": [
    "Since we are not changing the structure of our neural network, nor are we changing its function, we can use the same Sequential model object. The only difference from our previous workflow is this time we will retrain and evaluate on the nonlinear moon-shaped data.\n",
    "\n",
    "NOTE If you want to preview how this model behaves, try simulating the single-neuron, single-layer model in TensorFlow Playground (Links to an external site.), using their spiral dataset!\n",
    "\n",
    "As with our previous dummy data example, we need to split our nonlinear data into training and testing datasets and normalize our datasets. In the same notebook, we'll add and run the following code:\n",
    "\n"
   ]
  },
  {
   "cell_type": "code",
   "execution_count": 28,
   "id": "96d6851e",
   "metadata": {},
   "outputs": [],
   "source": [
    "# Create training and testing sets\n",
    "X_moon_train, X_moon_test, y_moon_train, y_moon_test = train_test_split(X_moons, \n",
    "                                                                        y_moons, \n",
    "                                                                        random_state = 78)\n",
    "\n",
    "# Create the scaler instance\n",
    "X_moon_scaler = skl.preprocessing.StandardScaler()\n",
    "\n",
    "# Fit the scaler\n",
    "X_moon_scaler.fit(X_moon_train)\n",
    "\n",
    "# Scale the data\n",
    "X_moon_train_scaled = X_moon_scaler.transform(X_moon_train)\n",
    "X_moon_test_scaled = X_moon_scaler.transform(X_moon_test)"
   ]
  },
  {
   "cell_type": "markdown",
   "id": "97071fc2",
   "metadata": {},
   "source": [
    "Like the previous dummy data example, \n",
    "we need to split our nonlinear data into training and testing datasets and normalize our datasets."
   ]
  },
  {
   "cell_type": "code",
   "execution_count": 29,
   "id": "211915b0",
   "metadata": {},
   "outputs": [
    {
     "name": "stdout",
     "output_type": "stream",
     "text": [
      "Epoch 1/100\n",
      "24/24 [==============================] - 0s 1ms/step - loss: 1.1722 - accuracy: 0.4427\n",
      "Epoch 2/100\n",
      "24/24 [==============================] - 0s 1ms/step - loss: 1.1437 - accuracy: 0.4467\n",
      "Epoch 3/100\n",
      "24/24 [==============================] - 0s 1ms/step - loss: 1.1166 - accuracy: 0.4520\n",
      "Epoch 4/100\n",
      "24/24 [==============================] - 0s 1ms/step - loss: 1.0918 - accuracy: 0.4547\n",
      "Epoch 5/100\n",
      "24/24 [==============================] - 0s 1ms/step - loss: 1.0681 - accuracy: 0.4560\n",
      "Epoch 6/100\n",
      "24/24 [==============================] - 0s 1ms/step - loss: 1.0453 - accuracy: 0.4613\n",
      "Epoch 7/100\n",
      "24/24 [==============================] - 0s 935us/step - loss: 1.0238 - accuracy: 0.4680\n",
      "Epoch 8/100\n",
      "24/24 [==============================] - 0s 1ms/step - loss: 1.0040 - accuracy: 0.4747\n",
      "Epoch 9/100\n",
      "24/24 [==============================] - 0s 1ms/step - loss: 0.9844 - accuracy: 0.4773\n",
      "Epoch 10/100\n",
      "24/24 [==============================] - 0s 1ms/step - loss: 0.9662 - accuracy: 0.4853\n",
      "Epoch 11/100\n",
      "24/24 [==============================] - 0s 825us/step - loss: 0.9488 - accuracy: 0.4867\n",
      "Epoch 12/100\n",
      "24/24 [==============================] - 0s 987us/step - loss: 0.9321 - accuracy: 0.4880\n",
      "Epoch 13/100\n",
      "24/24 [==============================] - 0s 1ms/step - loss: 0.9163 - accuracy: 0.4947\n",
      "Epoch 14/100\n",
      "24/24 [==============================] - 0s 1ms/step - loss: 0.9011 - accuracy: 0.4987\n",
      "Epoch 15/100\n",
      "24/24 [==============================] - 0s 1ms/step - loss: 0.8865 - accuracy: 0.5000\n",
      "Epoch 16/100\n",
      "24/24 [==============================] - 0s 972us/step - loss: 0.8729 - accuracy: 0.5040\n",
      "Epoch 17/100\n",
      "24/24 [==============================] - 0s 1ms/step - loss: 0.8594 - accuracy: 0.5053\n",
      "Epoch 18/100\n",
      "24/24 [==============================] - 0s 1ms/step - loss: 0.8463 - accuracy: 0.5067\n",
      "Epoch 19/100\n",
      "24/24 [==============================] - 0s 1ms/step - loss: 0.8337 - accuracy: 0.5147\n",
      "Epoch 20/100\n",
      "24/24 [==============================] - 0s 1ms/step - loss: 0.8219 - accuracy: 0.5173\n",
      "Epoch 21/100\n",
      "24/24 [==============================] - 0s 838us/step - loss: 0.8096 - accuracy: 0.5227\n",
      "Epoch 22/100\n",
      "24/24 [==============================] - 0s 1ms/step - loss: 0.7980 - accuracy: 0.5253\n",
      "Epoch 23/100\n",
      "24/24 [==============================] - 0s 854us/step - loss: 0.7867 - accuracy: 0.5307\n",
      "Epoch 24/100\n",
      "24/24 [==============================] - 0s 1ms/step - loss: 0.7757 - accuracy: 0.5347\n",
      "Epoch 25/100\n",
      "24/24 [==============================] - 0s 1ms/step - loss: 0.7650 - accuracy: 0.5373\n",
      "Epoch 26/100\n",
      "24/24 [==============================] - 0s 884us/step - loss: 0.7544 - accuracy: 0.5413\n",
      "Epoch 27/100\n",
      "24/24 [==============================] - 0s 915us/step - loss: 0.7439 - accuracy: 0.5440\n",
      "Epoch 28/100\n",
      "24/24 [==============================] - 0s 1ms/step - loss: 0.7335 - accuracy: 0.5467\n",
      "Epoch 29/100\n",
      "24/24 [==============================] - 0s 916us/step - loss: 0.7236 - accuracy: 0.5493\n",
      "Epoch 30/100\n",
      "24/24 [==============================] - 0s 1ms/step - loss: 0.7140 - accuracy: 0.5520\n",
      "Epoch 31/100\n",
      "24/24 [==============================] - 0s 1ms/step - loss: 0.7042 - accuracy: 0.5533\n",
      "Epoch 32/100\n",
      "24/24 [==============================] - 0s 1ms/step - loss: 0.6949 - accuracy: 0.5547\n",
      "Epoch 33/100\n",
      "24/24 [==============================] - 0s 1ms/step - loss: 0.6858 - accuracy: 0.5573\n",
      "Epoch 34/100\n",
      "24/24 [==============================] - 0s 920us/step - loss: 0.6767 - accuracy: 0.5640\n",
      "Epoch 35/100\n",
      "24/24 [==============================] - 0s 1ms/step - loss: 0.6677 - accuracy: 0.5693\n",
      "Epoch 36/100\n",
      "24/24 [==============================] - 0s 880us/step - loss: 0.6591 - accuracy: 0.5720\n",
      "Epoch 37/100\n",
      "24/24 [==============================] - 0s 1ms/step - loss: 0.6508 - accuracy: 0.5800\n",
      "Epoch 38/100\n",
      "24/24 [==============================] - 0s 1ms/step - loss: 0.6426 - accuracy: 0.5867\n",
      "Epoch 39/100\n",
      "24/24 [==============================] - 0s 1ms/step - loss: 0.6348 - accuracy: 0.5960\n",
      "Epoch 40/100\n",
      "24/24 [==============================] - 0s 1ms/step - loss: 0.6270 - accuracy: 0.6013\n",
      "Epoch 41/100\n",
      "24/24 [==============================] - 0s 1ms/step - loss: 0.6193 - accuracy: 0.6053\n",
      "Epoch 42/100\n",
      "24/24 [==============================] - 0s 1ms/step - loss: 0.6119 - accuracy: 0.6093\n",
      "Epoch 43/100\n",
      "24/24 [==============================] - 0s 1ms/step - loss: 0.6045 - accuracy: 0.6160\n",
      "Epoch 44/100\n",
      "24/24 [==============================] - 0s 1ms/step - loss: 0.5975 - accuracy: 0.6187\n",
      "Epoch 45/100\n",
      "24/24 [==============================] - 0s 1ms/step - loss: 0.5905 - accuracy: 0.6227\n",
      "Epoch 46/100\n",
      "24/24 [==============================] - 0s 1ms/step - loss: 0.5838 - accuracy: 0.6253\n",
      "Epoch 47/100\n",
      "24/24 [==============================] - 0s 1ms/step - loss: 0.5773 - accuracy: 0.6280\n",
      "Epoch 48/100\n",
      "24/24 [==============================] - 0s 2ms/step - loss: 0.5710 - accuracy: 0.6333\n",
      "Epoch 49/100\n",
      "24/24 [==============================] - 0s 1ms/step - loss: 0.5648 - accuracy: 0.6387\n",
      "Epoch 50/100\n",
      "24/24 [==============================] - 0s 1ms/step - loss: 0.5588 - accuracy: 0.6413\n",
      "Epoch 51/100\n",
      "24/24 [==============================] - 0s 1ms/step - loss: 0.5529 - accuracy: 0.6413\n",
      "Epoch 52/100\n",
      "24/24 [==============================] - 0s 1ms/step - loss: 0.5469 - accuracy: 0.6453\n",
      "Epoch 53/100\n",
      "24/24 [==============================] - 0s 1ms/step - loss: 0.5413 - accuracy: 0.6507\n",
      "Epoch 54/100\n",
      "24/24 [==============================] - 0s 1ms/step - loss: 0.5358 - accuracy: 0.6560\n",
      "Epoch 55/100\n",
      "24/24 [==============================] - 0s 1ms/step - loss: 0.5304 - accuracy: 0.6613\n",
      "Epoch 56/100\n",
      "24/24 [==============================] - 0s 1ms/step - loss: 0.5253 - accuracy: 0.6627\n",
      "Epoch 57/100\n",
      "24/24 [==============================] - 0s 1ms/step - loss: 0.5201 - accuracy: 0.6653\n",
      "Epoch 58/100\n",
      "24/24 [==============================] - 0s 1ms/step - loss: 0.5149 - accuracy: 0.6720\n",
      "Epoch 59/100\n",
      "24/24 [==============================] - 0s 910us/step - loss: 0.5099 - accuracy: 0.6773\n",
      "Epoch 60/100\n",
      "24/24 [==============================] - 0s 997us/step - loss: 0.5050 - accuracy: 0.6853\n",
      "Epoch 61/100\n",
      "24/24 [==============================] - 0s 867us/step - loss: 0.5000 - accuracy: 0.6867\n",
      "Epoch 62/100\n",
      "24/24 [==============================] - 0s 1ms/step - loss: 0.4952 - accuracy: 0.6933\n",
      "Epoch 63/100\n",
      "24/24 [==============================] - 0s 953us/step - loss: 0.4904 - accuracy: 0.6973\n",
      "Epoch 64/100\n",
      "24/24 [==============================] - 0s 954us/step - loss: 0.4857 - accuracy: 0.6987\n",
      "Epoch 65/100\n",
      "24/24 [==============================] - 0s 1ms/step - loss: 0.4810 - accuracy: 0.7080\n",
      "Epoch 66/100\n",
      "24/24 [==============================] - 0s 1ms/step - loss: 0.4764 - accuracy: 0.7093\n",
      "Epoch 67/100\n",
      "24/24 [==============================] - 0s 958us/step - loss: 0.4719 - accuracy: 0.7120\n",
      "Epoch 68/100\n",
      "24/24 [==============================] - 0s 1ms/step - loss: 0.4673 - accuracy: 0.7133\n",
      "Epoch 69/100\n",
      "24/24 [==============================] - 0s 859us/step - loss: 0.4629 - accuracy: 0.7160\n",
      "Epoch 70/100\n",
      "24/24 [==============================] - 0s 1ms/step - loss: 0.4585 - accuracy: 0.7240\n",
      "Epoch 71/100\n",
      "24/24 [==============================] - 0s 910us/step - loss: 0.4542 - accuracy: 0.7267\n",
      "Epoch 72/100\n",
      "24/24 [==============================] - 0s 1ms/step - loss: 0.4498 - accuracy: 0.7320\n",
      "Epoch 73/100\n",
      "24/24 [==============================] - 0s 1ms/step - loss: 0.4454 - accuracy: 0.7373\n",
      "Epoch 74/100\n",
      "24/24 [==============================] - 0s 910us/step - loss: 0.4411 - accuracy: 0.7467\n",
      "Epoch 75/100\n",
      "24/24 [==============================] - 0s 1ms/step - loss: 0.4368 - accuracy: 0.7507\n",
      "Epoch 76/100\n",
      "24/24 [==============================] - 0s 940us/step - loss: 0.4326 - accuracy: 0.7533\n",
      "Epoch 77/100\n",
      "24/24 [==============================] - 0s 1ms/step - loss: 0.4284 - accuracy: 0.7573\n",
      "Epoch 78/100\n",
      "24/24 [==============================] - 0s 878us/step - loss: 0.4242 - accuracy: 0.7600\n",
      "Epoch 79/100\n",
      "24/24 [==============================] - 0s 953us/step - loss: 0.4201 - accuracy: 0.7600\n",
      "Epoch 80/100\n",
      "24/24 [==============================] - 0s 910us/step - loss: 0.4159 - accuracy: 0.7600\n",
      "Epoch 81/100\n",
      "24/24 [==============================] - 0s 1ms/step - loss: 0.4118 - accuracy: 0.7667\n",
      "Epoch 82/100\n"
     ]
    },
    {
     "name": "stdout",
     "output_type": "stream",
     "text": [
      "24/24 [==============================] - 0s 1ms/step - loss: 0.4077 - accuracy: 0.7707\n",
      "Epoch 83/100\n",
      "24/24 [==============================] - 0s 925us/step - loss: 0.4038 - accuracy: 0.7773\n",
      "Epoch 84/100\n",
      "24/24 [==============================] - 0s 1ms/step - loss: 0.3998 - accuracy: 0.7800\n",
      "Epoch 85/100\n",
      "24/24 [==============================] - 0s 823us/step - loss: 0.3958 - accuracy: 0.7867\n",
      "Epoch 86/100\n",
      "24/24 [==============================] - 0s 1ms/step - loss: 0.3920 - accuracy: 0.7973\n",
      "Epoch 87/100\n",
      "24/24 [==============================] - 0s 911us/step - loss: 0.3882 - accuracy: 0.8027\n",
      "Epoch 88/100\n",
      "24/24 [==============================] - 0s 1ms/step - loss: 0.3845 - accuracy: 0.8027\n",
      "Epoch 89/100\n",
      "24/24 [==============================] - 0s 877us/step - loss: 0.3809 - accuracy: 0.8053\n",
      "Epoch 90/100\n",
      "24/24 [==============================] - 0s 975us/step - loss: 0.3774 - accuracy: 0.8080\n",
      "Epoch 91/100\n",
      "24/24 [==============================] - 0s 780us/step - loss: 0.3740 - accuracy: 0.8093\n",
      "Epoch 92/100\n",
      "24/24 [==============================] - 0s 941us/step - loss: 0.3705 - accuracy: 0.8107\n",
      "Epoch 93/100\n",
      "24/24 [==============================] - 0s 866us/step - loss: 0.3673 - accuracy: 0.8147\n",
      "Epoch 94/100\n",
      "24/24 [==============================] - 0s 963us/step - loss: 0.3640 - accuracy: 0.8173\n",
      "Epoch 95/100\n",
      "24/24 [==============================] - 0s 822us/step - loss: 0.3609 - accuracy: 0.8213\n",
      "Epoch 96/100\n",
      "24/24 [==============================] - 0s 929us/step - loss: 0.3577 - accuracy: 0.8227\n",
      "Epoch 97/100\n",
      "24/24 [==============================] - 0s 819us/step - loss: 0.3547 - accuracy: 0.8227\n",
      "Epoch 98/100\n",
      "24/24 [==============================] - 0s 953us/step - loss: 0.3517 - accuracy: 0.8227\n",
      "Epoch 99/100\n",
      "24/24 [==============================] - 0s 823us/step - loss: 0.3489 - accuracy: 0.8240\n",
      "Epoch 100/100\n",
      "24/24 [==============================] - 0s 953us/step - loss: 0.3462 - accuracy: 0.8267\n"
     ]
    }
   ],
   "source": [
    "# Training the model with the nonlinear data\n",
    "model_moon = nn_model.fit(X_moon_train_scaled, y_moon_train, epochs = 100, shuffle = True)"
   ]
  },
  {
   "cell_type": "code",
   "execution_count": 30,
   "id": "8bf401d4",
   "metadata": {},
   "outputs": [
    {
     "data": {
      "text/plain": [
       "<AxesSubplot:>"
      ]
     },
     "execution_count": 30,
     "metadata": {},
     "output_type": "execute_result"
    },
    {
     "data": {
      "image/png": "[encoded data removed]",
      "text/plain": [
       "<Figure size 432x288 with 1 Axes>"
      ]
     },
     "metadata": {
      "needs_background": "light"
     },
     "output_type": "display_data"
    }
   ],
   "source": [
    "# Create a DataFrame containing training history\n",
    "history_df = pd.DataFrame(model_moon.history, index = range(1, len(model_moon.history[\"loss\"]) + 1))\n",
    "\n",
    "# Plot the loss\n",
    "history_df.plot(y = \"loss\")"
   ]
  },
  {
   "cell_type": "code",
   "execution_count": 31,
   "id": "2b37ced4",
   "metadata": {},
   "outputs": [
    {
     "data": {
      "text/plain": [
       "<AxesSubplot:>"
      ]
     },
     "execution_count": 31,
     "metadata": {},
     "output_type": "execute_result"
    },
    {
     "data": {
      "image/png": "[encoded data removed]",
      "text/plain": [
       "<Figure size 432x288 with 1 Axes>"
      ]
     },
     "metadata": {
      "needs_background": "light"
     },
     "output_type": "display_data"
    }
   ],
   "source": [
    "# Plot the loss\n",
    "history_df.plot(y = \"accuracy\")"
   ]
  },
  {
   "cell_type": "code",
   "execution_count": 32,
   "id": "f5a98331",
   "metadata": {},
   "outputs": [],
   "source": [
    "# Generate our new Sequential model\n",
    "new_model = tf.keras.models.Sequential()"
   ]
  },
  {
   "cell_type": "code",
   "execution_count": 33,
   "id": "1387cb1b",
   "metadata": {},
   "outputs": [],
   "source": [
    "# Add the input and hidden layer\n",
    "number_inputs = 2\n",
    "number_hidden_nodes = 6\n",
    "\n",
    "new_model.add(tf.keras.layers.Dense(units = number_hidden_nodes, \n",
    "                                    activation = \"relu\", \n",
    "                                    input_dim = number_inputs))\n",
    "\n",
    "# Add the output layer that uses a probability activation function\n",
    "new_model.add(tf.keras.layers.Dense(units = 1, \n",
    "                                    activation = \"sigmoid\"))"
   ]
  },
  {
   "cell_type": "markdown",
   "id": "302f1be9",
   "metadata": {},
   "source": [
    "A good rule of thumb for a basic neural network is to have two to three times the amount of neurons in the hidden layer as the number of inputs.¶\n",
    "NOTE: Applying the neuron rule of thumb, we should use a neural network model with six neurons in the hidden layer to properly model our linear and nonlinear datasets."
   ]
  },
  {
   "cell_type": "code",
   "execution_count": 34,
   "id": "344b1685",
   "metadata": {},
   "outputs": [
    {
     "name": "stdout",
     "output_type": "stream",
     "text": [
      "Epoch 1/100\n",
      "24/24 [==============================] - 0s 1ms/step - loss: 0.7833 - accuracy: 0.3280\n",
      "Epoch 2/100\n",
      "24/24 [==============================] - 0s 1ms/step - loss: 0.7398 - accuracy: 0.4013\n",
      "Epoch 3/100\n",
      "24/24 [==============================] - 0s 929us/step - loss: 0.7043 - accuracy: 0.4453\n",
      "Epoch 4/100\n",
      "24/24 [==============================] - 0s 1ms/step - loss: 0.6760 - accuracy: 0.4973\n",
      "Epoch 5/100\n",
      "24/24 [==============================] - 0s 1ms/step - loss: 0.6530 - accuracy: 0.5560\n",
      "Epoch 6/100\n",
      "24/24 [==============================] - 0s 1ms/step - loss: 0.6324 - accuracy: 0.6187\n",
      "Epoch 7/100\n",
      "24/24 [==============================] - 0s 1ms/step - loss: 0.6148 - accuracy: 0.6773\n",
      "Epoch 8/100\n",
      "24/24 [==============================] - 0s 1ms/step - loss: 0.5989 - accuracy: 0.7147\n",
      "Epoch 9/100\n",
      "24/24 [==============================] - 0s 1ms/step - loss: 0.5844 - accuracy: 0.7387\n",
      "Epoch 10/100\n",
      "24/24 [==============================] - 0s 1ms/step - loss: 0.5710 - accuracy: 0.7707\n",
      "Epoch 11/100\n",
      "24/24 [==============================] - 0s 997us/step - loss: 0.5583 - accuracy: 0.8013\n",
      "Epoch 12/100\n",
      "24/24 [==============================] - 0s 1ms/step - loss: 0.5457 - accuracy: 0.8133\n",
      "Epoch 13/100\n",
      "24/24 [==============================] - 0s 1ms/step - loss: 0.5334 - accuracy: 0.8160\n",
      "Epoch 14/100\n",
      "24/24 [==============================] - 0s 910us/step - loss: 0.5206 - accuracy: 0.8173\n",
      "Epoch 15/100\n",
      "24/24 [==============================] - 0s 1ms/step - loss: 0.5073 - accuracy: 0.8200\n",
      "Epoch 16/100\n",
      "24/24 [==============================] - 0s 1ms/step - loss: 0.4934 - accuracy: 0.8240\n",
      "Epoch 17/100\n",
      "24/24 [==============================] - 0s 1ms/step - loss: 0.4784 - accuracy: 0.8320\n",
      "Epoch 18/100\n",
      "24/24 [==============================] - 0s 1ms/step - loss: 0.4625 - accuracy: 0.8360\n",
      "Epoch 19/100\n",
      "24/24 [==============================] - 0s 1ms/step - loss: 0.4454 - accuracy: 0.8427\n",
      "Epoch 20/100\n",
      "24/24 [==============================] - 0s 1ms/step - loss: 0.4276 - accuracy: 0.8440\n",
      "Epoch 21/100\n",
      "24/24 [==============================] - 0s 1ms/step - loss: 0.4092 - accuracy: 0.8507\n",
      "Epoch 22/100\n",
      "24/24 [==============================] - 0s 1ms/step - loss: 0.3916 - accuracy: 0.8560\n",
      "Epoch 23/100\n",
      "24/24 [==============================] - 0s 1ms/step - loss: 0.3760 - accuracy: 0.8573\n",
      "Epoch 24/100\n",
      "24/24 [==============================] - 0s 1ms/step - loss: 0.3613 - accuracy: 0.8600\n",
      "Epoch 25/100\n",
      "24/24 [==============================] - 0s 1ms/step - loss: 0.3488 - accuracy: 0.8613\n",
      "Epoch 26/100\n",
      "24/24 [==============================] - 0s 1ms/step - loss: 0.3379 - accuracy: 0.8653\n",
      "Epoch 27/100\n",
      "24/24 [==============================] - 0s 1ms/step - loss: 0.3283 - accuracy: 0.8667\n",
      "Epoch 28/100\n",
      "24/24 [==============================] - 0s 1ms/step - loss: 0.3199 - accuracy: 0.8680\n",
      "Epoch 29/100\n",
      "24/24 [==============================] - 0s 1ms/step - loss: 0.3125 - accuracy: 0.8720\n",
      "Epoch 30/100\n",
      "24/24 [==============================] - 0s 1ms/step - loss: 0.3058 - accuracy: 0.8720\n",
      "Epoch 31/100\n",
      "24/24 [==============================] - 0s 1ms/step - loss: 0.2999 - accuracy: 0.8733\n",
      "Epoch 32/100\n",
      "24/24 [==============================] - 0s 1ms/step - loss: 0.2945 - accuracy: 0.8733\n",
      "Epoch 33/100\n",
      "24/24 [==============================] - 0s 1ms/step - loss: 0.2897 - accuracy: 0.8733\n",
      "Epoch 34/100\n",
      "24/24 [==============================] - 0s 1ms/step - loss: 0.2852 - accuracy: 0.8733\n",
      "Epoch 35/100\n",
      "24/24 [==============================] - 0s 1ms/step - loss: 0.2810 - accuracy: 0.8747\n",
      "Epoch 36/100\n",
      "24/24 [==============================] - 0s 1ms/step - loss: 0.2772 - accuracy: 0.8760\n",
      "Epoch 37/100\n",
      "24/24 [==============================] - 0s 1ms/step - loss: 0.2736 - accuracy: 0.8800\n",
      "Epoch 38/100\n",
      "24/24 [==============================] - 0s 2ms/step - loss: 0.2703 - accuracy: 0.8813\n",
      "Epoch 39/100\n",
      "24/24 [==============================] - 0s 2ms/step - loss: 0.2674 - accuracy: 0.8853\n",
      "Epoch 40/100\n",
      "24/24 [==============================] - 0s 1ms/step - loss: 0.2645 - accuracy: 0.8880\n",
      "Epoch 41/100\n",
      "24/24 [==============================] - 0s 2ms/step - loss: 0.2619 - accuracy: 0.8920\n",
      "Epoch 42/100\n",
      "24/24 [==============================] - 0s 1ms/step - loss: 0.2595 - accuracy: 0.8933\n",
      "Epoch 43/100\n",
      "24/24 [==============================] - 0s 2ms/step - loss: 0.2572 - accuracy: 0.8933\n",
      "Epoch 44/100\n",
      "24/24 [==============================] - 0s 1ms/step - loss: 0.2553 - accuracy: 0.8933\n",
      "Epoch 45/100\n",
      "24/24 [==============================] - 0s 1ms/step - loss: 0.2533 - accuracy: 0.8933\n",
      "Epoch 46/100\n",
      "24/24 [==============================] - 0s 1ms/step - loss: 0.2516 - accuracy: 0.8947\n",
      "Epoch 47/100\n",
      "24/24 [==============================] - 0s 1ms/step - loss: 0.2498 - accuracy: 0.8947\n",
      "Epoch 48/100\n",
      "24/24 [==============================] - 0s 1ms/step - loss: 0.2483 - accuracy: 0.8947\n",
      "Epoch 49/100\n",
      "24/24 [==============================] - 0s 1ms/step - loss: 0.2468 - accuracy: 0.8960\n",
      "Epoch 50/100\n",
      "24/24 [==============================] - 0s 1ms/step - loss: 0.2452 - accuracy: 0.8960\n",
      "Epoch 51/100\n",
      "24/24 [==============================] - 0s 1ms/step - loss: 0.2439 - accuracy: 0.8973\n",
      "Epoch 52/100\n",
      "24/24 [==============================] - 0s 1ms/step - loss: 0.2427 - accuracy: 0.8987\n",
      "Epoch 53/100\n",
      "24/24 [==============================] - 0s 1ms/step - loss: 0.2415 - accuracy: 0.8987\n",
      "Epoch 54/100\n",
      "24/24 [==============================] - 0s 1ms/step - loss: 0.2403 - accuracy: 0.9013\n",
      "Epoch 55/100\n",
      "24/24 [==============================] - 0s 1ms/step - loss: 0.2391 - accuracy: 0.9027\n",
      "Epoch 56/100\n",
      "24/24 [==============================] - 0s 1ms/step - loss: 0.2380 - accuracy: 0.9027\n",
      "Epoch 57/100\n",
      "24/24 [==============================] - 0s 1ms/step - loss: 0.2371 - accuracy: 0.9027\n",
      "Epoch 58/100\n",
      "24/24 [==============================] - 0s 1ms/step - loss: 0.2361 - accuracy: 0.9040\n",
      "Epoch 59/100\n",
      "24/24 [==============================] - 0s 2ms/step - loss: 0.2351 - accuracy: 0.9040\n",
      "Epoch 60/100\n",
      "24/24 [==============================] - 0s 1ms/step - loss: 0.2341 - accuracy: 0.9053\n",
      "Epoch 61/100\n",
      "24/24 [==============================] - 0s 953us/step - loss: 0.2335 - accuracy: 0.9053\n",
      "Epoch 62/100\n",
      "24/24 [==============================] - 0s 1ms/step - loss: 0.2321 - accuracy: 0.9067\n",
      "Epoch 63/100\n",
      "24/24 [==============================] - 0s 1ms/step - loss: 0.2313 - accuracy: 0.9040\n",
      "Epoch 64/100\n",
      "24/24 [==============================] - 0s 1ms/step - loss: 0.2305 - accuracy: 0.9053\n",
      "Epoch 65/100\n",
      "24/24 [==============================] - 0s 953us/step - loss: 0.2295 - accuracy: 0.9053\n",
      "Epoch 66/100\n",
      "24/24 [==============================] - 0s 1ms/step - loss: 0.2287 - accuracy: 0.9053\n",
      "Epoch 67/100\n",
      "24/24 [==============================] - 0s 2ms/step - loss: 0.2278 - accuracy: 0.9053\n",
      "Epoch 68/100\n",
      "24/24 [==============================] - 0s 1ms/step - loss: 0.2268 - accuracy: 0.9067\n",
      "Epoch 69/100\n",
      "24/24 [==============================] - 0s 1ms/step - loss: 0.2262 - accuracy: 0.9080\n",
      "Epoch 70/100\n",
      "24/24 [==============================] - 0s 1ms/step - loss: 0.2252 - accuracy: 0.9080\n",
      "Epoch 71/100\n",
      "24/24 [==============================] - 0s 1ms/step - loss: 0.2244 - accuracy: 0.9080\n",
      "Epoch 72/100\n",
      "24/24 [==============================] - 0s 1ms/step - loss: 0.2234 - accuracy: 0.9080\n",
      "Epoch 73/100\n",
      "24/24 [==============================] - 0s 1ms/step - loss: 0.2226 - accuracy: 0.9080\n",
      "Epoch 74/100\n",
      "24/24 [==============================] - 0s 1ms/step - loss: 0.2217 - accuracy: 0.9080\n",
      "Epoch 75/100\n",
      "24/24 [==============================] - 0s 1ms/step - loss: 0.2209 - accuracy: 0.9067\n",
      "Epoch 76/100\n",
      "24/24 [==============================] - 0s 1ms/step - loss: 0.2200 - accuracy: 0.9080\n",
      "Epoch 77/100\n",
      "24/24 [==============================] - 0s 1ms/step - loss: 0.2191 - accuracy: 0.9120\n",
      "Epoch 78/100\n",
      "24/24 [==============================] - 0s 1ms/step - loss: 0.2181 - accuracy: 0.9107\n",
      "Epoch 79/100\n",
      "24/24 [==============================] - 0s 910us/step - loss: 0.2174 - accuracy: 0.9093\n",
      "Epoch 80/100\n",
      "24/24 [==============================] - 0s 1ms/step - loss: 0.2164 - accuracy: 0.9093\n",
      "Epoch 81/100\n",
      "24/24 [==============================] - 0s 996us/step - loss: 0.2155 - accuracy: 0.9093\n",
      "Epoch 82/100\n"
     ]
    },
    {
     "name": "stdout",
     "output_type": "stream",
     "text": [
      "24/24 [==============================] - 0s 1ms/step - loss: 0.2145 - accuracy: 0.9093\n",
      "Epoch 83/100\n",
      "24/24 [==============================] - 0s 998us/step - loss: 0.2137 - accuracy: 0.9107\n",
      "Epoch 84/100\n",
      "24/24 [==============================] - 0s 1ms/step - loss: 0.2128 - accuracy: 0.9093\n",
      "Epoch 85/100\n",
      "24/24 [==============================] - 0s 1ms/step - loss: 0.2118 - accuracy: 0.9093\n",
      "Epoch 86/100\n",
      "24/24 [==============================] - 0s 1ms/step - loss: 0.2108 - accuracy: 0.9093\n",
      "Epoch 87/100\n",
      "24/24 [==============================] - 0s 1ms/step - loss: 0.2100 - accuracy: 0.9120\n",
      "Epoch 88/100\n",
      "24/24 [==============================] - 0s 1ms/step - loss: 0.2089 - accuracy: 0.9133\n",
      "Epoch 89/100\n",
      "24/24 [==============================] - 0s 1ms/step - loss: 0.2080 - accuracy: 0.9133\n",
      "Epoch 90/100\n",
      "24/24 [==============================] - 0s 1ms/step - loss: 0.2070 - accuracy: 0.9133\n",
      "Epoch 91/100\n",
      "24/24 [==============================] - 0s 867us/step - loss: 0.2061 - accuracy: 0.9133\n",
      "Epoch 92/100\n",
      "24/24 [==============================] - 0s 1ms/step - loss: 0.2051 - accuracy: 0.9147\n",
      "Epoch 93/100\n",
      "24/24 [==============================] - 0s 953us/step - loss: 0.2042 - accuracy: 0.9160\n",
      "Epoch 94/100\n",
      "24/24 [==============================] - 0s 1ms/step - loss: 0.2031 - accuracy: 0.9147\n",
      "Epoch 95/100\n",
      "24/24 [==============================] - 0s 954us/step - loss: 0.2021 - accuracy: 0.9147\n",
      "Epoch 96/100\n",
      "24/24 [==============================] - 0s 1ms/step - loss: 0.2015 - accuracy: 0.9147\n",
      "Epoch 97/100\n",
      "24/24 [==============================] - 0s 996us/step - loss: 0.2002 - accuracy: 0.9147\n",
      "Epoch 98/100\n",
      "24/24 [==============================] - 0s 997us/step - loss: 0.1992 - accuracy: 0.9147\n",
      "Epoch 99/100\n",
      "24/24 [==============================] - 0s 1ms/step - loss: 0.1981 - accuracy: 0.9147\n",
      "Epoch 100/100\n",
      "24/24 [==============================] - 0s 1ms/step - loss: 0.1972 - accuracy: 0.9147\n"
     ]
    }
   ],
   "source": [
    "# Compile the Sequential model together and customize metrics\n",
    "new_model.compile(loss = \"binary_crossentropy\", \n",
    "                  optimizer = \"adam\", \n",
    "                  metrics = [\"accuracy\"])\n",
    "\n",
    "# Fit the model to the training data\n",
    "new_fit_model = new_model.fit(X_moon_train_scaled, \n",
    "                              y_moon_train, \n",
    "                              epochs = 100, \n",
    "                              shuffle = True)"
   ]
  },
  {
   "cell_type": "markdown",
   "id": "df68db10",
   "metadata": {},
   "source": [
    "Now that our new Sequential model is defined, we need to compile and train the model using our nonlinear moon-shaped dummy data. For us to make direct comparisons with our single-neuron model, we’ll use the same training parameters, including loss metric, optimizer function, and number of epochs.\n",
    "\n",
    "Looking at the training metrics of our new model, as we increase the number of neurons within the hidden layer, \n",
    "the classification accuracy improves. You may have noticed that adding multiple neurons to our neural network did not yield\n",
    "a perfect classification model. As input data becomes more complex, \n",
    "neural networks will require more and more optimization tweaks to achieve their desired accuracy."
   ]
  },
  {
   "cell_type": "code",
   "execution_count": null,
   "id": "508c2a43",
   "metadata": {},
   "outputs": [],
   "source": []
  }
 ],
 "metadata": {
  "kernelspec": {
   "display_name": "mlenv",
   "language": "python",
   "name": "mlenv"
  },
  "language_info": {
   "codemirror_mode": {
    "name": "ipython",
    "version": 3
   },
   "file_extension": ".py",
   "mimetype": "text/x-python",
   "name": "python",
   "nbconvert_exporter": "python",
   "pygments_lexer": "ipython3",
   "version": "3.7.10"
  }
 },
 "nbformat": 4,
 "nbformat_minor": 5
}
